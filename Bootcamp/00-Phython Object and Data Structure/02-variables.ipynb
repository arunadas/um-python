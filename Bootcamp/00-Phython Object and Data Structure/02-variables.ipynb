{
 "cells": [
  {
   "cell_type": "code",
   "execution_count": 2,
   "id": "6918e947-4d9d-4fbe-9cfa-1b7c84787eb5",
   "metadata": {},
   "outputs": [],
   "source": [
    "a = 7"
   ]
  },
  {
   "cell_type": "code",
   "execution_count": 3,
   "id": "da0b010f-8d32-49ff-856b-7b0a63a3dbfe",
   "metadata": {},
   "outputs": [
    {
     "data": {
      "text/plain": [
       "7"
      ]
     },
     "execution_count": 3,
     "metadata": {},
     "output_type": "execute_result"
    }
   ],
   "source": [
    "a"
   ]
  },
  {
   "cell_type": "code",
   "execution_count": 8,
   "id": "47890ca9-4fac-486f-b15f-6c545fd2b756",
   "metadata": {},
   "outputs": [],
   "source": [
    "a = a + a"
   ]
  },
  {
   "cell_type": "code",
   "execution_count": 9,
   "id": "622d6142-1587-4379-b7e6-d52fc9e1208d",
   "metadata": {},
   "outputs": [
    {
     "data": {
      "text/plain": [
       "56"
      ]
     },
     "execution_count": 9,
     "metadata": {},
     "output_type": "execute_result"
    }
   ],
   "source": [
    "a"
   ]
  },
  {
   "cell_type": "code",
   "execution_count": 10,
   "id": "99093950-ec4a-418b-9b8c-2d36c479ec11",
   "metadata": {},
   "outputs": [
    {
     "data": {
      "text/plain": [
       "int"
      ]
     },
     "execution_count": 10,
     "metadata": {},
     "output_type": "execute_result"
    }
   ],
   "source": [
    "type(a)"
   ]
  },
  {
   "cell_type": "code",
   "execution_count": 11,
   "id": "d07999bc-bad1-4ef5-9260-4be431b77cf5",
   "metadata": {},
   "outputs": [],
   "source": [
    "a = .1"
   ]
  },
  {
   "cell_type": "code",
   "execution_count": 12,
   "id": "1765ead2-18b5-44f3-b58c-a7531b56e5b9",
   "metadata": {},
   "outputs": [
    {
     "data": {
      "text/plain": [
       "float"
      ]
     },
     "execution_count": 12,
     "metadata": {},
     "output_type": "execute_result"
    }
   ],
   "source": [
    "type(a)"
   ]
  },
  {
   "cell_type": "code",
   "execution_count": 13,
   "id": "aeecd828-f724-41c4-8b0a-872660597db4",
   "metadata": {},
   "outputs": [],
   "source": [
    "my_rent = 300\n",
    "\n",
    "my_electric_bill = 59\n"
   ]
  },
  {
   "cell_type": "code",
   "execution_count": 14,
   "id": "1f36b43c-79c5-4d0f-ae72-160707511631",
   "metadata": {},
   "outputs": [],
   "source": [
    "my_total_expense = my_rent + my_electric_bill"
   ]
  },
  {
   "cell_type": "code",
   "execution_count": 15,
   "id": "87174b1e-aaf9-4650-89ea-6eb0fec16c8e",
   "metadata": {},
   "outputs": [
    {
     "data": {
      "text/plain": [
       "359"
      ]
     },
     "execution_count": 15,
     "metadata": {},
     "output_type": "execute_result"
    }
   ],
   "source": [
    "my_total_expense"
   ]
  },
  {
   "cell_type": "code",
   "execution_count": null,
   "id": "449d9748-e5ee-473a-82a5-fa2f81fbb223",
   "metadata": {},
   "outputs": [],
   "source": []
  }
 ],
 "metadata": {
  "kernelspec": {
   "display_name": "Python 3 (ipykernel)",
   "language": "python",
   "name": "python3"
  },
  "language_info": {
   "codemirror_mode": {
    "name": "ipython",
    "version": 3
   },
   "file_extension": ".py",
   "mimetype": "text/x-python",
   "name": "python",
   "nbconvert_exporter": "python",
   "pygments_lexer": "ipython3",
   "version": "3.10.8"
  }
 },
 "nbformat": 4,
 "nbformat_minor": 5
}

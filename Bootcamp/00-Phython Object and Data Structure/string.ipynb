{
 "cells": [
  {
   "cell_type": "markdown",
   "id": "dc628cc8-581c-4208-aaf4-2f63fbf0698d",
   "metadata": {},
   "source": [
    "String in python is indexed from 0 \n",
    "- You can access any character using index\n",
    "- slice let you select a subsection syntax is [start:stop:step]\n",
    "- reverse index also works so if you don't know the length of the string you can grab last element by using -1 index\n",
    "- print ' needs to wraped with \" (double quotes to avoid error)\n",
    "- use print function to get the strings\n",
    "- "
   ]
  },
  {
   "cell_type": "code",
   "execution_count": 1,
   "id": "a7b87a10-6106-4d4e-a202-b2528f883e12",
   "metadata": {},
   "outputs": [
    {
     "data": {
      "text/plain": [
       "'california'"
      ]
     },
     "execution_count": 1,
     "metadata": {},
     "output_type": "execute_result"
    }
   ],
   "source": [
    "'california'"
   ]
  },
  {
   "cell_type": "code",
   "execution_count": 2,
   "id": "51a8e1db-6e9d-42d5-91d8-e25e569c0470",
   "metadata": {},
   "outputs": [
    {
     "data": {
      "text/plain": [
       "'USA'"
      ]
     },
     "execution_count": 2,
     "metadata": {},
     "output_type": "execute_result"
    }
   ],
   "source": [
    "'USA'"
   ]
  },
  {
   "cell_type": "code",
   "execution_count": 3,
   "id": "7791da85-213c-4e72-ac7f-907517b1b473",
   "metadata": {},
   "outputs": [
    {
     "data": {
      "text/plain": [
       "' california is still cold in 2024'"
      ]
     },
     "execution_count": 3,
     "metadata": {},
     "output_type": "execute_result"
    }
   ],
   "source": [
    "' california is still cold in 2024'"
   ]
  },
  {
   "cell_type": "code",
   "execution_count": 4,
   "id": "55742242-a73f-45da-a979-fcb8695d621b",
   "metadata": {},
   "outputs": [
    {
     "ename": "SyntaxError",
     "evalue": "unterminated string literal (detected at line 1) (1481171980.py, line 1)",
     "output_type": "error",
     "traceback": [
      "\u001b[0;36m  Cell \u001b[0;32mIn[4], line 1\u001b[0;36m\u001b[0m\n\u001b[0;31m    'I 'm testing this code'\u001b[0m\n\u001b[0m                           ^\u001b[0m\n\u001b[0;31mSyntaxError\u001b[0m\u001b[0;31m:\u001b[0m unterminated string literal (detected at line 1)\n"
     ]
    }
   ],
   "source": [
    "'I 'm testing this code'"
   ]
  },
  {
   "cell_type": "code",
   "execution_count": 5,
   "id": "09750e90-45d3-442d-9bb3-22c43ef8606d",
   "metadata": {},
   "outputs": [
    {
     "data": {
      "text/plain": [
       "\"I 'm testing this code\""
      ]
     },
     "execution_count": 5,
     "metadata": {},
     "output_type": "execute_result"
    }
   ],
   "source": [
    "\"I 'm testing this code\""
   ]
  },
  {
   "cell_type": "code",
   "execution_count": 7,
   "id": "6f1ce0cb-39b1-4f44-8486-db8e6850dff4",
   "metadata": {},
   "outputs": [
    {
     "name": "stdout",
     "output_type": "stream",
     "text": [
      "california\n"
     ]
    }
   ],
   "source": [
    "print('california')"
   ]
  },
  {
   "cell_type": "code",
   "execution_count": 8,
   "id": "27d5a8cd-4d97-4608-8cdf-0d04b6efbc1f",
   "metadata": {},
   "outputs": [
    {
     "data": {
      "text/plain": [
       "'california 2'"
      ]
     },
     "execution_count": 8,
     "metadata": {},
     "output_type": "execute_result"
    }
   ],
   "source": [
    "'california 1'\n",
    "'california 2'"
   ]
  },
  {
   "cell_type": "code",
   "execution_count": 9,
   "id": "af035829-2aaf-4c38-b18b-420af97b3c30",
   "metadata": {},
   "outputs": [
    {
     "name": "stdout",
     "output_type": "stream",
     "text": [
      "california 1\n",
      "california 2\n"
     ]
    }
   ],
   "source": [
    "print('california 1')\n",
    "print('california 2')"
   ]
  },
  {
   "cell_type": "code",
   "execution_count": 10,
   "id": "486bea2b-e96e-488d-9e9f-406afc103af5",
   "metadata": {},
   "outputs": [
    {
     "name": "stdout",
     "output_type": "stream",
     "text": [
      "california \n",
      " usa\n"
     ]
    }
   ],
   "source": [
    "print('california \\n usa')"
   ]
  },
  {
   "cell_type": "code",
   "execution_count": 11,
   "id": "7786f085-7ff8-4670-85ce-97e2f39739a8",
   "metadata": {},
   "outputs": [
    {
     "name": "stdout",
     "output_type": "stream",
     "text": [
      "california \n",
      "usa\n"
     ]
    }
   ],
   "source": [
    "print('california \\nusa')"
   ]
  },
  {
   "cell_type": "code",
   "execution_count": 12,
   "id": "90af3f86-7ec1-4176-b53f-da3bdaa58131",
   "metadata": {},
   "outputs": [
    {
     "name": "stdout",
     "output_type": "stream",
     "text": [
      "california \tusa\n"
     ]
    }
   ],
   "source": [
    "print('california \\tusa')"
   ]
  },
  {
   "cell_type": "code",
   "execution_count": 13,
   "id": "4172675d-e6a5-43e9-9ebb-5eac0b2cedc6",
   "metadata": {},
   "outputs": [
    {
     "data": {
      "text/plain": [
       "5"
      ]
     },
     "execution_count": 13,
     "metadata": {},
     "output_type": "execute_result"
    }
   ],
   "source": [
    "len('aruna')"
   ]
  },
  {
   "cell_type": "code",
   "execution_count": 14,
   "id": "c7113e75-a3e0-45ea-b120-a656e3104769",
   "metadata": {},
   "outputs": [
    {
     "data": {
      "text/plain": [
       "6"
      ]
     },
     "execution_count": 14,
     "metadata": {},
     "output_type": "execute_result"
    }
   ],
   "source": [
    "len(\"I 'm a\")"
   ]
  },
  {
   "cell_type": "code",
   "execution_count": null,
   "id": "42006056-46e9-41ee-a45b-d066f64782f5",
   "metadata": {},
   "outputs": [],
   "source": []
  }
 ],
 "metadata": {
  "kernelspec": {
   "display_name": "Python 3 (ipykernel)",
   "language": "python",
   "name": "python3"
  },
  "language_info": {
   "codemirror_mode": {
    "name": "ipython",
    "version": 3
   },
   "file_extension": ".py",
   "mimetype": "text/x-python",
   "name": "python",
   "nbconvert_exporter": "python",
   "pygments_lexer": "ipython3",
   "version": "3.10.8"
  }
 },
 "nbformat": 4,
 "nbformat_minor": 5
}

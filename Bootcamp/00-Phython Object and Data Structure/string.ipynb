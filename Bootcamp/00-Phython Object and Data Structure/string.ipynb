{
 "cells": [
  {
   "cell_type": "markdown",
   "id": "dc628cc8-581c-4208-aaf4-2f63fbf0698d",
   "metadata": {},
   "source": [
    "String in python is indexed from 0 \n",
    "- You can access any character using index\n",
    "- slice let you select a subsection syntax is [start:stop:step]\n",
    "- reverse index also works so if you don't know the length of the string you can grab last element by using -1 index\n",
    "- print ' needs to wraped with \" (double quotes to avoid error)\n",
    "- use print function to get the strings\n",
    "- "
   ]
  },
  {
   "cell_type": "code",
   "execution_count": 1,
   "id": "a7b87a10-6106-4d4e-a202-b2528f883e12",
   "metadata": {},
   "outputs": [
    {
     "data": {
      "text/plain": [
       "'california'"
      ]
     },
     "execution_count": 1,
     "metadata": {},
     "output_type": "execute_result"
    }
   ],
   "source": [
    "'california'"
   ]
  },
  {
   "cell_type": "code",
   "execution_count": 2,
   "id": "51a8e1db-6e9d-42d5-91d8-e25e569c0470",
   "metadata": {},
   "outputs": [
    {
     "data": {
      "text/plain": [
       "'USA'"
      ]
     },
     "execution_count": 2,
     "metadata": {},
     "output_type": "execute_result"
    }
   ],
   "source": [
    "'USA'"
   ]
  },
  {
   "cell_type": "code",
   "execution_count": 3,
   "id": "7791da85-213c-4e72-ac7f-907517b1b473",
   "metadata": {},
   "outputs": [
    {
     "data": {
      "text/plain": [
       "' california is still cold in 2024'"
      ]
     },
     "execution_count": 3,
     "metadata": {},
     "output_type": "execute_result"
    }
   ],
   "source": [
    "' california is still cold in 2024'"
   ]
  },
  {
   "cell_type": "code",
   "execution_count": 4,
   "id": "55742242-a73f-45da-a979-fcb8695d621b",
   "metadata": {},
   "outputs": [
    {
     "ename": "SyntaxError",
     "evalue": "unterminated string literal (detected at line 1) (1481171980.py, line 1)",
     "output_type": "error",
     "traceback": [
      "\u001b[0;36m  Cell \u001b[0;32mIn[4], line 1\u001b[0;36m\u001b[0m\n\u001b[0;31m    'I 'm testing this code'\u001b[0m\n\u001b[0m                           ^\u001b[0m\n\u001b[0;31mSyntaxError\u001b[0m\u001b[0;31m:\u001b[0m unterminated string literal (detected at line 1)\n"
     ]
    }
   ],
   "source": [
    "'I 'm testing this code'"
   ]
  },
  {
   "cell_type": "code",
   "execution_count": 5,
   "id": "09750e90-45d3-442d-9bb3-22c43ef8606d",
   "metadata": {},
   "outputs": [
    {
     "data": {
      "text/plain": [
       "\"I 'm testing this code\""
      ]
     },
     "execution_count": 5,
     "metadata": {},
     "output_type": "execute_result"
    }
   ],
   "source": [
    "\"I 'm testing this code\""
   ]
  },
  {
   "cell_type": "code",
   "execution_count": 7,
   "id": "6f1ce0cb-39b1-4f44-8486-db8e6850dff4",
   "metadata": {},
   "outputs": [
    {
     "name": "stdout",
     "output_type": "stream",
     "text": [
      "california\n"
     ]
    }
   ],
   "source": [
    "print('california')"
   ]
  },
  {
   "cell_type": "code",
   "execution_count": 8,
   "id": "27d5a8cd-4d97-4608-8cdf-0d04b6efbc1f",
   "metadata": {},
   "outputs": [
    {
     "data": {
      "text/plain": [
       "'california 2'"
      ]
     },
     "execution_count": 8,
     "metadata": {},
     "output_type": "execute_result"
    }
   ],
   "source": [
    "'california 1'\n",
    "'california 2'"
   ]
  },
  {
   "cell_type": "code",
   "execution_count": 9,
   "id": "af035829-2aaf-4c38-b18b-420af97b3c30",
   "metadata": {},
   "outputs": [
    {
     "name": "stdout",
     "output_type": "stream",
     "text": [
      "california 1\n",
      "california 2\n"
     ]
    }
   ],
   "source": [
    "print('california 1')\n",
    "print('california 2')"
   ]
  },
  {
   "cell_type": "code",
   "execution_count": 10,
   "id": "486bea2b-e96e-488d-9e9f-406afc103af5",
   "metadata": {},
   "outputs": [
    {
     "name": "stdout",
     "output_type": "stream",
     "text": [
      "california \n",
      " usa\n"
     ]
    }
   ],
   "source": [
    "print('california \\n usa')"
   ]
  },
  {
   "cell_type": "code",
   "execution_count": 11,
   "id": "7786f085-7ff8-4670-85ce-97e2f39739a8",
   "metadata": {},
   "outputs": [
    {
     "name": "stdout",
     "output_type": "stream",
     "text": [
      "california \n",
      "usa\n"
     ]
    }
   ],
   "source": [
    "print('california \\nusa')"
   ]
  },
  {
   "cell_type": "code",
   "execution_count": 12,
   "id": "90af3f86-7ec1-4176-b53f-da3bdaa58131",
   "metadata": {},
   "outputs": [
    {
     "name": "stdout",
     "output_type": "stream",
     "text": [
      "california \tusa\n"
     ]
    }
   ],
   "source": [
    "print('california \\tusa')"
   ]
  },
  {
   "cell_type": "code",
   "execution_count": 13,
   "id": "4172675d-e6a5-43e9-9ebb-5eac0b2cedc6",
   "metadata": {},
   "outputs": [
    {
     "data": {
      "text/plain": [
       "5"
      ]
     },
     "execution_count": 13,
     "metadata": {},
     "output_type": "execute_result"
    }
   ],
   "source": [
    "len('aruna')"
   ]
  },
  {
   "cell_type": "code",
   "execution_count": 14,
   "id": "c7113e75-a3e0-45ea-b120-a656e3104769",
   "metadata": {},
   "outputs": [
    {
     "data": {
      "text/plain": [
       "6"
      ]
     },
     "execution_count": 14,
     "metadata": {},
     "output_type": "execute_result"
    }
   ],
   "source": [
    "len(\"I 'm a\")"
   ]
  },
  {
   "cell_type": "code",
   "execution_count": 15,
   "id": "42006056-46e9-41ee-a45b-d066f64782f5",
   "metadata": {},
   "outputs": [],
   "source": [
    "myString = \"Hello Aruna\""
   ]
  },
  {
   "cell_type": "code",
   "execution_count": 16,
   "id": "9aa19a96-0dda-4300-8111-4eea155db2a0",
   "metadata": {},
   "outputs": [
    {
     "data": {
      "text/plain": [
       "'Hello Aruna'"
      ]
     },
     "execution_count": 16,
     "metadata": {},
     "output_type": "execute_result"
    }
   ],
   "source": [
    "myString"
   ]
  },
  {
   "cell_type": "code",
   "execution_count": 17,
   "id": "edb2727a-0641-4899-84d5-6c4a2ea65512",
   "metadata": {},
   "outputs": [
    {
     "data": {
      "text/plain": [
       "'H'"
      ]
     },
     "execution_count": 17,
     "metadata": {},
     "output_type": "execute_result"
    }
   ],
   "source": [
    "myString[0]"
   ]
  },
  {
   "cell_type": "code",
   "execution_count": 19,
   "id": "921bb342-66c0-4dbe-a8eb-ff7dab36734b",
   "metadata": {},
   "outputs": [
    {
     "data": {
      "text/plain": [
       "'r'"
      ]
     },
     "execution_count": 19,
     "metadata": {},
     "output_type": "execute_result"
    }
   ],
   "source": [
    "myString[7]"
   ]
  },
  {
   "cell_type": "code",
   "execution_count": 21,
   "id": "a000fa8d-b485-4d55-a84f-1647922d7f98",
   "metadata": {},
   "outputs": [
    {
     "data": {
      "text/plain": [
       "'n'"
      ]
     },
     "execution_count": 21,
     "metadata": {},
     "output_type": "execute_result"
    }
   ],
   "source": [
    "myString[9]"
   ]
  },
  {
   "cell_type": "code",
   "execution_count": 22,
   "id": "a2438cdd-167a-4b48-a5b9-3462f14302b0",
   "metadata": {},
   "outputs": [
    {
     "data": {
      "text/plain": [
       "'n'"
      ]
     },
     "execution_count": 22,
     "metadata": {},
     "output_type": "execute_result"
    }
   ],
   "source": [
    "myString[-2]"
   ]
  },
  {
   "cell_type": "code",
   "execution_count": 23,
   "id": "4d25c9e9-7b0e-42ac-bf89-966da04b3fae",
   "metadata": {},
   "outputs": [
    {
     "data": {
      "text/plain": [
       "'a'"
      ]
     },
     "execution_count": 23,
     "metadata": {},
     "output_type": "execute_result"
    }
   ],
   "source": [
    "# get the last element without knowing the length \n",
    "myString[-1]"
   ]
  },
  {
   "cell_type": "code",
   "execution_count": 24,
   "id": "9c471558-d31b-4976-9e54-1b6a17348714",
   "metadata": {},
   "outputs": [
    {
     "data": {
      "text/plain": [
       "'Hello Aruna'"
      ]
     },
     "execution_count": 24,
     "metadata": {},
     "output_type": "execute_result"
    }
   ],
   "source": [
    "myString"
   ]
  },
  {
   "cell_type": "code",
   "execution_count": 25,
   "id": "03558bec-21bf-41c3-9b5a-d48f93500d75",
   "metadata": {},
   "outputs": [],
   "source": [
    "myString = \"abcdefghijk\""
   ]
  },
  {
   "cell_type": "code",
   "execution_count": 26,
   "id": "2c0ed3af-60fd-4cb8-b5a2-c5ac119253a9",
   "metadata": {},
   "outputs": [
    {
     "data": {
      "text/plain": [
       "'abcdefghijk'"
      ]
     },
     "execution_count": 26,
     "metadata": {},
     "output_type": "execute_result"
    }
   ],
   "source": [
    "myString"
   ]
  },
  {
   "cell_type": "code",
   "execution_count": 28,
   "id": "e9f8ccd1-2a2f-4bd3-b7d5-6933a73d7a74",
   "metadata": {},
   "outputs": [
    {
     "data": {
      "text/plain": [
       "'cdefghijk'"
      ]
     },
     "execution_count": 28,
     "metadata": {},
     "output_type": "execute_result"
    }
   ],
   "source": [
    "myString[2:]"
   ]
  },
  {
   "cell_type": "code",
   "execution_count": 31,
   "id": "4237eeba-203d-4943-aa24-a13790085428",
   "metadata": {},
   "outputs": [
    {
     "data": {
      "text/plain": [
       "'abc'"
      ]
     },
     "execution_count": 31,
     "metadata": {},
     "output_type": "execute_result"
    }
   ],
   "source": [
    "# upto but not including \n",
    "myString[:3]"
   ]
  },
  {
   "cell_type": "code",
   "execution_count": 33,
   "id": "105afa50-6eda-423e-9d7e-7ee3d6b6c177",
   "metadata": {},
   "outputs": [
    {
     "data": {
      "text/plain": [
       "'def'"
      ]
     },
     "execution_count": 33,
     "metadata": {},
     "output_type": "execute_result"
    }
   ],
   "source": [
    "myString[3:6]"
   ]
  },
  {
   "cell_type": "code",
   "execution_count": 34,
   "id": "c906067d-3ed4-4cb3-89f3-3bf9a6d9a239",
   "metadata": {},
   "outputs": [
    {
     "data": {
      "text/plain": [
       "'bc'"
      ]
     },
     "execution_count": 34,
     "metadata": {},
     "output_type": "execute_result"
    }
   ],
   "source": [
    "myString[1:3]"
   ]
  },
  {
   "cell_type": "code",
   "execution_count": 35,
   "id": "724cf73b-21c5-42b2-a047-3325ce9bd0e5",
   "metadata": {},
   "outputs": [
    {
     "data": {
      "text/plain": [
       "'ghi'"
      ]
     },
     "execution_count": 35,
     "metadata": {},
     "output_type": "execute_result"
    }
   ],
   "source": [
    "myString[6:9]"
   ]
  },
  {
   "cell_type": "code",
   "execution_count": 36,
   "id": "6b08e5f0-2d6e-4617-a1e5-04942f87e026",
   "metadata": {},
   "outputs": [
    {
     "data": {
      "text/plain": [
       "'abcdefghijk'"
      ]
     },
     "execution_count": 36,
     "metadata": {},
     "output_type": "execute_result"
    }
   ],
   "source": [
    "#step size\n",
    "myString[::]"
   ]
  },
  {
   "cell_type": "code",
   "execution_count": 37,
   "id": "ffaf5992-45a9-49ea-994c-40dec615de16",
   "metadata": {},
   "outputs": [
    {
     "data": {
      "text/plain": [
       "'abcdefghijk'"
      ]
     },
     "execution_count": 37,
     "metadata": {},
     "output_type": "execute_result"
    }
   ],
   "source": [
    "myString"
   ]
  },
  {
   "cell_type": "code",
   "execution_count": 38,
   "id": "fc586d59-70ff-41f0-8e04-98c26917d784",
   "metadata": {},
   "outputs": [
    {
     "data": {
      "text/plain": [
       "'acegik'"
      ]
     },
     "execution_count": 38,
     "metadata": {},
     "output_type": "execute_result"
    }
   ],
   "source": [
    "myString[::2]"
   ]
  },
  {
   "cell_type": "code",
   "execution_count": 39,
   "id": "88ece6ec-dcfd-4859-b740-a81a31a99b62",
   "metadata": {},
   "outputs": [
    {
     "data": {
      "text/plain": [
       "'adgj'"
      ]
     },
     "execution_count": 39,
     "metadata": {},
     "output_type": "execute_result"
    }
   ],
   "source": [
    "myString[::3]"
   ]
  },
  {
   "cell_type": "code",
   "execution_count": 40,
   "id": "2d5943d3-099d-45ee-bb0e-2e5122861e59",
   "metadata": {},
   "outputs": [
    {
     "data": {
      "text/plain": [
       "'kjihgfedcba'"
      ]
     },
     "execution_count": 40,
     "metadata": {},
     "output_type": "execute_result"
    }
   ],
   "source": [
    "# reverse a string \n",
    "myString[::-1]"
   ]
  },
  {
   "cell_type": "code",
   "execution_count": 41,
   "id": "37887dc5-7dec-4d86-bc52-ca1a72c8d9f3",
   "metadata": {},
   "outputs": [],
   "source": [
    "# String properties \n",
    "# Immutable \n",
    "name = 'sam'"
   ]
  },
  {
   "cell_type": "code",
   "execution_count": 42,
   "id": "4ade4a8e-7c96-4f58-a4bd-d1770a25d388",
   "metadata": {},
   "outputs": [
    {
     "data": {
      "text/plain": [
       "'sam'"
      ]
     },
     "execution_count": 42,
     "metadata": {},
     "output_type": "execute_result"
    }
   ],
   "source": [
    "name"
   ]
  },
  {
   "cell_type": "code",
   "execution_count": 43,
   "id": "2f7858b9-fd31-4387-8e65-b54c8b4298dc",
   "metadata": {},
   "outputs": [
    {
     "ename": "TypeError",
     "evalue": "'str' object does not support item assignment",
     "output_type": "error",
     "traceback": [
      "\u001b[0;31m---------------------------------------------------------------------------\u001b[0m",
      "\u001b[0;31mTypeError\u001b[0m                                 Traceback (most recent call last)",
      "Cell \u001b[0;32mIn[43], line 1\u001b[0m\n\u001b[0;32m----> 1\u001b[0m \u001b[43mname\u001b[49m\u001b[43m[\u001b[49m\u001b[38;5;241;43m0\u001b[39;49m\u001b[43m]\u001b[49m \u001b[38;5;241m=\u001b[39m \u001b[38;5;124m'\u001b[39m\u001b[38;5;124mp\u001b[39m\u001b[38;5;124m'\u001b[39m\n",
      "\u001b[0;31mTypeError\u001b[0m: 'str' object does not support item assignment"
     ]
    }
   ],
   "source": [
    "name[0] = 'p'"
   ]
  },
  {
   "cell_type": "code",
   "execution_count": 44,
   "id": "419e0b08-2e1b-4e08-90a5-1301ffd87652",
   "metadata": {},
   "outputs": [],
   "source": [
    "last_letters = name[1:]"
   ]
  },
  {
   "cell_type": "code",
   "execution_count": 45,
   "id": "83c44f58-a0fb-4698-9382-4e1c87b59d22",
   "metadata": {},
   "outputs": [
    {
     "data": {
      "text/plain": [
       "'am'"
      ]
     },
     "execution_count": 45,
     "metadata": {},
     "output_type": "execute_result"
    }
   ],
   "source": [
    "last_letters"
   ]
  },
  {
   "cell_type": "code",
   "execution_count": 46,
   "id": "44270632-4078-43b1-92f7-c35623467451",
   "metadata": {},
   "outputs": [
    {
     "data": {
      "text/plain": [
       "'pam'"
      ]
     },
     "execution_count": 46,
     "metadata": {},
     "output_type": "execute_result"
    }
   ],
   "source": [
    "'p' + last_letters"
   ]
  },
  {
   "cell_type": "code",
   "execution_count": 47,
   "id": "cea475a9-862d-4971-994b-3e0f2b6475c6",
   "metadata": {},
   "outputs": [],
   "source": [
    "#string concatenamtion\n",
    "x = \"Hello World!\""
   ]
  },
  {
   "cell_type": "code",
   "execution_count": 48,
   "id": "9db44623-13e9-463e-9e17-5dfb2e7dbedd",
   "metadata": {},
   "outputs": [
    {
     "data": {
      "text/plain": [
       "'Hello World!'"
      ]
     },
     "execution_count": 48,
     "metadata": {},
     "output_type": "execute_result"
    }
   ],
   "source": [
    "x"
   ]
  },
  {
   "cell_type": "code",
   "execution_count": 53,
   "id": "3d68b31a-2ca1-4701-9de9-b63db5ae50b1",
   "metadata": {},
   "outputs": [],
   "source": [
    "x = x + \" it is preety outside!\""
   ]
  },
  {
   "cell_type": "code",
   "execution_count": 54,
   "id": "59df9d7b-9ddc-4cae-958c-a5a6de064414",
   "metadata": {},
   "outputs": [
    {
     "data": {
      "text/plain": [
       "'Hello World! it is preety outside! it is preety outside! it is preety outside!'"
      ]
     },
     "execution_count": 54,
     "metadata": {},
     "output_type": "execute_result"
    }
   ],
   "source": [
    "x"
   ]
  },
  {
   "cell_type": "code",
   "execution_count": 55,
   "id": "c3316f99-99d5-4ddd-805a-f54c1c7e21c9",
   "metadata": {},
   "outputs": [],
   "source": [
    "letter = 'z'"
   ]
  },
  {
   "cell_type": "code",
   "execution_count": 57,
   "id": "b5466ae9-98ed-42a3-af61-9df5521c5b7e",
   "metadata": {},
   "outputs": [
    {
     "data": {
      "text/plain": [
       "'zzzzzzzzzz'"
      ]
     },
     "execution_count": 57,
     "metadata": {},
     "output_type": "execute_result"
    }
   ],
   "source": [
    "letter * 10"
   ]
  },
  {
   "cell_type": "code",
   "execution_count": 58,
   "id": "33880034-e9f8-43a9-94a1-378facec3aaa",
   "metadata": {},
   "outputs": [
    {
     "data": {
      "text/plain": [
       "5"
      ]
     },
     "execution_count": 58,
     "metadata": {},
     "output_type": "execute_result"
    }
   ],
   "source": [
    "2 + 3"
   ]
  },
  {
   "cell_type": "code",
   "execution_count": 59,
   "id": "2d55d8bc-97b8-4f49-8f26-8a5263572a36",
   "metadata": {},
   "outputs": [
    {
     "data": {
      "text/plain": [
       "'23'"
      ]
     },
     "execution_count": 59,
     "metadata": {},
     "output_type": "execute_result"
    }
   ],
   "source": [
    "'2' +'3'"
   ]
  },
  {
   "cell_type": "code",
   "execution_count": 60,
   "id": "ea3425ae-5bee-4ed2-a431-5f458332e6cf",
   "metadata": {},
   "outputs": [],
   "source": [
    "x = 'Hello world'"
   ]
  },
  {
   "cell_type": "code",
   "execution_count": 61,
   "id": "aad04da2-191d-4b22-86a8-62d219b42b93",
   "metadata": {},
   "outputs": [
    {
     "data": {
      "text/plain": [
       "'Hello world'"
      ]
     },
     "execution_count": 61,
     "metadata": {},
     "output_type": "execute_result"
    }
   ],
   "source": [
    "x"
   ]
  },
  {
   "cell_type": "code",
   "execution_count": 62,
   "id": "b4924151-f6a4-4dbf-99b0-10f44be0a791",
   "metadata": {},
   "outputs": [
    {
     "data": {
      "text/plain": [
       "'HELLO WORLD'"
      ]
     },
     "execution_count": 62,
     "metadata": {},
     "output_type": "execute_result"
    }
   ],
   "source": [
    "x.upper()"
   ]
  },
  {
   "cell_type": "code",
   "execution_count": 63,
   "id": "c53730a6-a5ec-4aa5-b87c-29af72b6eb5b",
   "metadata": {},
   "outputs": [
    {
     "data": {
      "text/plain": [
       "'Hello world'"
      ]
     },
     "execution_count": 63,
     "metadata": {},
     "output_type": "execute_result"
    }
   ],
   "source": [
    "x"
   ]
  },
  {
   "cell_type": "code",
   "execution_count": 64,
   "id": "c12feec3-f1d1-40b3-8c90-bf3a929d7ae8",
   "metadata": {},
   "outputs": [
    {
     "data": {
      "text/plain": [
       "'hello world'"
      ]
     },
     "execution_count": 64,
     "metadata": {},
     "output_type": "execute_result"
    }
   ],
   "source": [
    "x.lower()"
   ]
  },
  {
   "cell_type": "code",
   "execution_count": 65,
   "id": "eef8ab19-2303-4a30-bb73-ad9df342c805",
   "metadata": {},
   "outputs": [
    {
     "data": {
      "text/plain": [
       "['Hello', 'world']"
      ]
     },
     "execution_count": 65,
     "metadata": {},
     "output_type": "execute_result"
    }
   ],
   "source": [
    "x.split()"
   ]
  },
  {
   "cell_type": "code",
   "execution_count": 66,
   "id": "7a13b837-9ed4-4a19-b4a1-58b86ca86fc8",
   "metadata": {},
   "outputs": [],
   "source": [
    "y = 'hi this is a string'"
   ]
  },
  {
   "cell_type": "code",
   "execution_count": 67,
   "id": "e2be6748-4c87-4746-b25c-3ced08184530",
   "metadata": {},
   "outputs": [
    {
     "data": {
      "text/plain": [
       "['hi', 'this', 'is', 'a', 'string']"
      ]
     },
     "execution_count": 67,
     "metadata": {},
     "output_type": "execute_result"
    }
   ],
   "source": [
    "y.split()"
   ]
  },
  {
   "cell_type": "code",
   "execution_count": 69,
   "id": "81095013-8b5f-42fa-9d51-9cbad54b5890",
   "metadata": {},
   "outputs": [
    {
     "data": {
      "text/plain": [
       "['h', ' th', 's ', 's a str', 'ng']"
      ]
     },
     "execution_count": 69,
     "metadata": {},
     "output_type": "execute_result"
    }
   ],
   "source": [
    "y.split('i')"
   ]
  },
  {
   "cell_type": "code",
   "execution_count": 70,
   "id": "2851ee90-2334-4203-bae2-4395f2eeb5f0",
   "metadata": {},
   "outputs": [
    {
     "name": "stdout",
     "output_type": "stream",
     "text": [
      "hello\n"
     ]
    }
   ],
   "source": [
    "print('hello')"
   ]
  },
  {
   "cell_type": "code",
   "execution_count": null,
   "id": "0e62a2f0-6e45-4b46-bbc1-ea10049632da",
   "metadata": {},
   "outputs": [],
   "source": []
  }
 ],
 "metadata": {
  "kernelspec": {
   "display_name": "Python 3 (ipykernel)",
   "language": "python",
   "name": "python3"
  },
  "language_info": {
   "codemirror_mode": {
    "name": "ipython",
    "version": 3
   },
   "file_extension": ".py",
   "mimetype": "text/x-python",
   "name": "python",
   "nbconvert_exporter": "python",
   "pygments_lexer": "ipython3",
   "version": "3.10.8"
  }
 },
 "nbformat": 4,
 "nbformat_minor": 5
}

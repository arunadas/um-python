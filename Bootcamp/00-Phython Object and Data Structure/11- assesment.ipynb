{
 "cells": [
  {
   "cell_type": "markdown",
   "id": "0c069ec5-6416-4334-83c6-064fd6acd382",
   "metadata": {},
   "source": [
    "Numbers: intergers with +ve and -ve \n",
    "\n",
    "Strings: continous index accesable object , it can be combination with alphanumeric\n",
    "\n",
    "Lists: ordered Mixed with string, integers , float . can be accessed by index . inbuilt functions, pop \n",
    "\n",
    "Tuples: (3,4) \n",
    "\n",
    "Dictionaries: key value pair unordered , can be accessed by key \n",
    "\n",
    "set : unique {,} characters only. add , \n",
    "\n"
   ]
  },
  {
   "cell_type": "markdown",
   "id": "b6634fed-c3d6-4233-a354-bb4508ba3c01",
   "metadata": {},
   "source": [
    "Numbers\n",
    "Write an equation that uses multiplication, division, an exponent, addition, and subtraction that is equal to 100.25.\n",
    "\n",
    "Hint: This is just to test your memory of the basic arithmetic commands, work backwards from 100.25\n",
    "\n"
   ]
  },
  {
   "cell_type": "code",
   "execution_count": 3,
   "id": "2b4334c9-45d6-4b96-962d-0d2c190528bd",
   "metadata": {},
   "outputs": [
    {
     "data": {
      "text/plain": [
       "100.25"
      ]
     },
     "execution_count": 3,
     "metadata": {},
     "output_type": "execute_result"
    }
   ],
   "source": [
    "((50*2)/10)**2 + .50 - .25\n"
   ]
  },
  {
   "cell_type": "markdown",
   "id": "7a437da4-910d-48ee-a259-d700bc4b9df2",
   "metadata": {},
   "source": [
    "Answer these 3 questions without typing code. Then type code to check your answer.\n",
    "\n",
    "What is the value of the expression 4 * (6 + 5) -- 44\n",
    "\n",
    "What is the value of the expression 4 * 6 + 5 -- 29\n",
    "\n",
    "What is the value of the expression 4 + 6 * 5 -- 34"
   ]
  },
  {
   "cell_type": "code",
   "execution_count": 5,
   "id": "8ec2a94d-3b87-4f98-9c80-66906cfb5e93",
   "metadata": {},
   "outputs": [
    {
     "data": {
      "text/plain": [
       "44"
      ]
     },
     "execution_count": 5,
     "metadata": {},
     "output_type": "execute_result"
    }
   ],
   "source": [
    "4 * (6 + 5)\n"
   ]
  },
  {
   "cell_type": "code",
   "execution_count": 6,
   "id": "456f00b7-6afd-4705-8931-f6593bfecd5f",
   "metadata": {},
   "outputs": [
    {
     "data": {
      "text/plain": [
       "29"
      ]
     },
     "execution_count": 6,
     "metadata": {},
     "output_type": "execute_result"
    }
   ],
   "source": [
    "4 * 6 + 5\n"
   ]
  },
  {
   "cell_type": "code",
   "execution_count": 7,
   "id": "f5100724-821f-4c25-b007-79631c5f2d4f",
   "metadata": {},
   "outputs": [
    {
     "data": {
      "text/plain": [
       "34"
      ]
     },
     "execution_count": 7,
     "metadata": {},
     "output_type": "execute_result"
    }
   ],
   "source": [
    "4 + 6 * 5"
   ]
  },
  {
   "cell_type": "markdown",
   "id": "61422279-2e4f-4b33-b869-82e2e79f3a1c",
   "metadata": {},
   "source": [
    "What is the type of the result of the expression 3 + 1.5 + 4? -- float"
   ]
  },
  {
   "cell_type": "code",
   "execution_count": 8,
   "id": "d2e9447f-f859-4b77-a9fb-f7de87e45625",
   "metadata": {},
   "outputs": [
    {
     "data": {
      "text/plain": [
       "float"
      ]
     },
     "execution_count": 8,
     "metadata": {},
     "output_type": "execute_result"
    }
   ],
   "source": [
    "type(3 + 1.5 + 4)"
   ]
  },
  {
   "cell_type": "markdown",
   "id": "e7bd41a6-1ce0-4fb5-85a6-389f41b6976f",
   "metadata": {},
   "source": [
    "What would you use to find a number’s square root, as well as its square?"
   ]
  },
  {
   "cell_type": "code",
   "execution_count": 10,
   "id": "4a4238a7-1689-4f4f-8668-ea031f56dc91",
   "metadata": {},
   "outputs": [
    {
     "data": {
      "text/plain": [
       "25"
      ]
     },
     "execution_count": 10,
     "metadata": {},
     "output_type": "execute_result"
    }
   ],
   "source": [
    "5*5 -- sqaure"
   ]
  },
  {
   "cell_type": "code",
   "execution_count": 11,
   "id": "f73ef9fe-9f27-4579-9d29-ce8a5abcd3d3",
   "metadata": {},
   "outputs": [
    {
     "data": {
      "text/plain": [
       "5.0"
      ]
     },
     "execution_count": 11,
     "metadata": {},
     "output_type": "execute_result"
    }
   ],
   "source": [
    "25 ** (1/2) -- square root"
   ]
  },
  {
   "cell_type": "markdown",
   "id": "042ca1c9-4486-4550-ad55-01403b09f052",
   "metadata": {},
   "source": [
    "Strings\n",
    "Given the string 'hello' give an index command that returns 'e'. Enter your code in the cell below:"
   ]
  },
  {
   "cell_type": "code",
   "execution_count": 12,
   "id": "eed3a091-4ec2-445f-a0c6-83ebc58d01de",
   "metadata": {},
   "outputs": [
    {
     "data": {
      "text/plain": [
       "'e'"
      ]
     },
     "execution_count": 12,
     "metadata": {},
     "output_type": "execute_result"
    }
   ],
   "source": [
    "s = 'hello'\n",
    "# Print out 'e' using indexing\n",
    "s[1]"
   ]
  },
  {
   "cell_type": "markdown",
   "id": "66b19c94-0bc8-467d-9ab9-aba925292a94",
   "metadata": {},
   "source": [
    "Reverse the string 'hello' using slicing:"
   ]
  },
  {
   "cell_type": "code",
   "execution_count": 17,
   "id": "bc3034cc-319e-48bc-a6fb-fbd8f527194b",
   "metadata": {},
   "outputs": [
    {
     "data": {
      "text/plain": [
       "'olleh'"
      ]
     },
     "execution_count": 17,
     "metadata": {},
     "output_type": "execute_result"
    }
   ],
   "source": [
    "s ='hello'\n",
    "# Reverse the string using slicing\n",
    "s[::-1]"
   ]
  },
  {
   "cell_type": "markdown",
   "id": "5082dfb5-f45a-4b7d-86f6-9bc2cc91aae8",
   "metadata": {},
   "source": [
    "Given the string hello, give two methods of producing the letter 'o' using indexing."
   ]
  },
  {
   "cell_type": "code",
   "execution_count": 19,
   "id": "ad019ccc-1aad-4e44-b2bf-e520ae64515a",
   "metadata": {},
   "outputs": [],
   "source": [
    "s ='hello'\n",
    "# Print out the 'o'\n",
    "\n",
    "# Method 1:\n"
   ]
  },
  {
   "cell_type": "code",
   "execution_count": null,
   "id": "95b4d222-7e45-437b-ab14-a6a811d4086f",
   "metadata": {},
   "outputs": [],
   "source": [
    "# Method 2:"
   ]
  }
 ],
 "metadata": {
  "kernelspec": {
   "display_name": "Python 3 (ipykernel)",
   "language": "python",
   "name": "python3"
  },
  "language_info": {
   "codemirror_mode": {
    "name": "ipython",
    "version": 3
   },
   "file_extension": ".py",
   "mimetype": "text/x-python",
   "name": "python",
   "nbconvert_exporter": "python",
   "pygments_lexer": "ipython3",
   "version": "3.10.8"
  }
 },
 "nbformat": 4,
 "nbformat_minor": 5
}

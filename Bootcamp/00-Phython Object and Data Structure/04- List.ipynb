{
 "cells": [
  {
   "cell_type": "code",
   "execution_count": 1,
   "id": "a30a2764-e3d0-4998-834f-3679358c5372",
   "metadata": {},
   "outputs": [],
   "source": [
    "my_list = [1,2,3]"
   ]
  },
  {
   "cell_type": "code",
   "execution_count": 2,
   "id": "3ccacd7d-3705-4255-b042-d753b06cb6c7",
   "metadata": {},
   "outputs": [],
   "source": [
    "my_list = ['STRING', 100, 23.2]"
   ]
  },
  {
   "cell_type": "code",
   "execution_count": 3,
   "id": "895647b8-ac09-426f-9681-b979c1f98824",
   "metadata": {},
   "outputs": [
    {
     "data": {
      "text/plain": [
       "['STRING', 100, 23.2]"
      ]
     },
     "execution_count": 3,
     "metadata": {},
     "output_type": "execute_result"
    }
   ],
   "source": [
    "my_list"
   ]
  },
  {
   "cell_type": "code",
   "execution_count": 4,
   "id": "3f4be296-455e-4e27-b170-150618e418be",
   "metadata": {},
   "outputs": [
    {
     "data": {
      "text/plain": [
       "3"
      ]
     },
     "execution_count": 4,
     "metadata": {},
     "output_type": "execute_result"
    }
   ],
   "source": [
    "len(my_list)"
   ]
  },
  {
   "cell_type": "code",
   "execution_count": 5,
   "id": "53cdedd8-7fc5-4768-a577-c55d76a00656",
   "metadata": {},
   "outputs": [],
   "source": [
    "mylist = ['one' , 'two', 'three']"
   ]
  },
  {
   "cell_type": "code",
   "execution_count": 6,
   "id": "fd6f5966-76fc-4c31-a9c4-36c0fed3f3fd",
   "metadata": {},
   "outputs": [
    {
     "data": {
      "text/plain": [
       "'one'"
      ]
     },
     "execution_count": 6,
     "metadata": {},
     "output_type": "execute_result"
    }
   ],
   "source": [
    "mylist[0]"
   ]
  },
  {
   "cell_type": "code",
   "execution_count": 7,
   "id": "72a820d6-0b7d-4a1d-8c6b-b2c2821952af",
   "metadata": {},
   "outputs": [
    {
     "data": {
      "text/plain": [
       "['two', 'three']"
      ]
     },
     "execution_count": 7,
     "metadata": {},
     "output_type": "execute_result"
    }
   ],
   "source": [
    "mylist[1:]"
   ]
  },
  {
   "cell_type": "code",
   "execution_count": 8,
   "id": "f2e696ce-13dd-4a87-9f3a-d95901d06b6b",
   "metadata": {},
   "outputs": [],
   "source": [
    "another_list = ['four','five']"
   ]
  },
  {
   "cell_type": "code",
   "execution_count": 9,
   "id": "ea7a2112-99a1-4e47-a432-61403dd471f6",
   "metadata": {},
   "outputs": [
    {
     "data": {
      "text/plain": [
       "['one', 'two', 'three', 'four', 'five']"
      ]
     },
     "execution_count": 9,
     "metadata": {},
     "output_type": "execute_result"
    }
   ],
   "source": [
    "mylist + another_list "
   ]
  },
  {
   "cell_type": "code",
   "execution_count": 11,
   "id": "ec80dc43-4a27-4c1f-a59f-e0207cfe574a",
   "metadata": {},
   "outputs": [
    {
     "data": {
      "text/plain": [
       "['one', 'two', 'three']"
      ]
     },
     "execution_count": 11,
     "metadata": {},
     "output_type": "execute_result"
    }
   ],
   "source": [
    "mylist"
   ]
  },
  {
   "cell_type": "code",
   "execution_count": 12,
   "id": "f0e4731e-8f0a-468e-9e73-6cf94d74f12f",
   "metadata": {},
   "outputs": [
    {
     "data": {
      "text/plain": [
       "['four', 'five']"
      ]
     },
     "execution_count": 12,
     "metadata": {},
     "output_type": "execute_result"
    }
   ],
   "source": [
    "another_list"
   ]
  },
  {
   "cell_type": "code",
   "execution_count": 13,
   "id": "a50b9282-921b-4a67-a992-347ad6367921",
   "metadata": {},
   "outputs": [],
   "source": [
    "new_list = mylist + another_list"
   ]
  },
  {
   "cell_type": "code",
   "execution_count": 14,
   "id": "873f98e7-2992-4fff-8f65-4cd5d90aa319",
   "metadata": {},
   "outputs": [
    {
     "data": {
      "text/plain": [
       "['one', 'two', 'three', 'four', 'five']"
      ]
     },
     "execution_count": 14,
     "metadata": {},
     "output_type": "execute_result"
    }
   ],
   "source": [
    "new_list"
   ]
  },
  {
   "cell_type": "code",
   "execution_count": 15,
   "id": "98147e65-a44e-4c09-a723-98514fb3ffae",
   "metadata": {},
   "outputs": [],
   "source": [
    "# mutable \n",
    "new_list[0] = 'ONE IN ALL CAPS'"
   ]
  },
  {
   "cell_type": "code",
   "execution_count": 16,
   "id": "c6ba8e0f-22e2-4831-b724-d355d875b08b",
   "metadata": {},
   "outputs": [
    {
     "data": {
      "text/plain": [
       "['ONE IN ALL CAPS', 'two', 'three', 'four', 'five']"
      ]
     },
     "execution_count": 16,
     "metadata": {},
     "output_type": "execute_result"
    }
   ],
   "source": [
    "new_list"
   ]
  },
  {
   "cell_type": "code",
   "execution_count": 17,
   "id": "d1eeed3d-ece4-4137-be39-fa5d3e76ee88",
   "metadata": {},
   "outputs": [],
   "source": [
    "new_list.append('six')"
   ]
  },
  {
   "cell_type": "code",
   "execution_count": 18,
   "id": "ed8fa2de-4a47-48be-9394-d84ff5534a95",
   "metadata": {},
   "outputs": [
    {
     "data": {
      "text/plain": [
       "['ONE IN ALL CAPS', 'two', 'three', 'four', 'five', 'six']"
      ]
     },
     "execution_count": 18,
     "metadata": {},
     "output_type": "execute_result"
    }
   ],
   "source": [
    "new_list"
   ]
  },
  {
   "cell_type": "code",
   "execution_count": null,
   "id": "adb05df4-bd82-4e65-9a86-761e53857879",
   "metadata": {},
   "outputs": [],
   "source": []
  }
 ],
 "metadata": {
  "kernelspec": {
   "display_name": "Python 3 (ipykernel)",
   "language": "python",
   "name": "python3"
  },
  "language_info": {
   "codemirror_mode": {
    "name": "ipython",
    "version": 3
   },
   "file_extension": ".py",
   "mimetype": "text/x-python",
   "name": "python",
   "nbconvert_exporter": "python",
   "pygments_lexer": "ipython3",
   "version": "3.10.8"
  }
 },
 "nbformat": 4,
 "nbformat_minor": 5
}

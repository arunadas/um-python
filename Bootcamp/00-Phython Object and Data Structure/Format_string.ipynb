{
 "cells": [
  {
   "cell_type": "code",
   "execution_count": 1,
   "id": "0b8bcf9e-0d93-479c-887e-c168077fe0d3",
   "metadata": {},
   "outputs": [
    {
     "name": "stdout",
     "output_type": "stream",
     "text": [
      "This is a string inserted\n"
     ]
    }
   ],
   "source": [
    "print('This is a string {}'.format('inserted'))"
   ]
  },
  {
   "cell_type": "code",
   "execution_count": 3,
   "id": "c982f3c0-85a0-42be-b700-ceea66c4a751",
   "metadata": {},
   "outputs": [
    {
     "name": "stdout",
     "output_type": "stream",
     "text": [
      " The fox brown quick \n"
     ]
    }
   ],
   "source": [
    "print(' The {} {} {} '.format('fox','brown','quick'))"
   ]
  },
  {
   "cell_type": "code",
   "execution_count": 5,
   "id": "223fd42c-b270-4195-be4c-32163e918ba9",
   "metadata": {},
   "outputs": [
    {
     "name": "stdout",
     "output_type": "stream",
     "text": [
      " The quick brown fox \n"
     ]
    }
   ],
   "source": [
    "# index\n",
    "print(' The {2} {1} {0} '.format('fox','brown','quick'))"
   ]
  },
  {
   "cell_type": "code",
   "execution_count": 6,
   "id": "c94eafbe-05af-4ea5-a3d0-e0104f1e3730",
   "metadata": {},
   "outputs": [
    {
     "name": "stdout",
     "output_type": "stream",
     "text": [
      " The fox fox fox \n"
     ]
    }
   ],
   "source": [
    "print(' The {0} {0} {0} '.format('fox','brown','quick'))"
   ]
  },
  {
   "cell_type": "code",
   "execution_count": 8,
   "id": "1d924fc5-6745-45e1-8ce0-a0052886fffc",
   "metadata": {},
   "outputs": [
    {
     "name": "stdout",
     "output_type": "stream",
     "text": [
      " The quick brown fox \n"
     ]
    }
   ],
   "source": [
    "# the key method \n",
    "print(' The {q} {b} {f} '.format(f='fox',b='brown',q='quick'))"
   ]
  },
  {
   "cell_type": "code",
   "execution_count": 9,
   "id": "2657a4fa-ed7e-470b-8f8d-4880a673e038",
   "metadata": {},
   "outputs": [
    {
     "name": "stdout",
     "output_type": "stream",
     "text": [
      " The fox fox fox\n"
     ]
    }
   ],
   "source": [
    "print(' The {f} {f} {f}'.format(f = 'fox',b='brown',q='quick'))"
   ]
  },
  {
   "cell_type": "code",
   "execution_count": 10,
   "id": "e74c2118-731a-4020-b41c-c96e03be9de7",
   "metadata": {},
   "outputs": [],
   "source": [
    "result = 100/777"
   ]
  },
  {
   "cell_type": "code",
   "execution_count": 11,
   "id": "e6ad989a-d5a9-4b12-8ea1-cdbf8a762330",
   "metadata": {},
   "outputs": [
    {
     "data": {
      "text/plain": [
       "0.1287001287001287"
      ]
     },
     "execution_count": 11,
     "metadata": {},
     "output_type": "execute_result"
    }
   ],
   "source": [
    "result"
   ]
  },
  {
   "cell_type": "code",
   "execution_count": 14,
   "id": "21abbcef-0fd4-4d4e-b1b0-d8ee248598c4",
   "metadata": {},
   "outputs": [
    {
     "name": "stdout",
     "output_type": "stream",
     "text": [
      "The result value was 0.1287001287001287\n"
     ]
    }
   ],
   "source": [
    "print('The result value was {r}'.format(r = result))"
   ]
  },
  {
   "cell_type": "code",
   "execution_count": 16,
   "id": "de282cc8-6f79-4500-82a1-a6c37175cb72",
   "metadata": {},
   "outputs": [
    {
     "name": "stdout",
     "output_type": "stream",
     "text": [
      "The result value was 0.13\n"
     ]
    }
   ],
   "source": [
    "#value:width.precisionf\n",
    "print('The result value was {r:1.2f}'.format(r = result))"
   ]
  },
  {
   "cell_type": "code",
   "execution_count": 18,
   "id": "63bce343-0ab1-46f0-9f3f-562c107f7f0d",
   "metadata": {},
   "outputs": [],
   "source": [
    "# f string\n",
    "name = 'Aruna'"
   ]
  },
  {
   "cell_type": "code",
   "execution_count": 20,
   "id": "cc9582e9-0b4b-4782-8ff3-89f55c28ee47",
   "metadata": {},
   "outputs": [
    {
     "name": "stdout",
     "output_type": "stream",
     "text": [
      "Hello there Aruna\n"
     ]
    }
   ],
   "source": [
    "print('Hello there {}'.format(name))"
   ]
  },
  {
   "cell_type": "code",
   "execution_count": 21,
   "id": "8adb9b0d-5208-4418-adfa-63ad2806b305",
   "metadata": {},
   "outputs": [
    {
     "name": "stdout",
     "output_type": "stream",
     "text": [
      "Hello there Aruna\n"
     ]
    }
   ],
   "source": [
    "print(f'Hello there {name}')"
   ]
  },
  {
   "cell_type": "code",
   "execution_count": 22,
   "id": "3bc720ce-9acc-4cc2-9b0f-6a5ee95ee960",
   "metadata": {},
   "outputs": [],
   "source": [
    "name = 'somu'\n",
    "age = 3"
   ]
  },
  {
   "cell_type": "code",
   "execution_count": 25,
   "id": "d4f61cd7-2b98-45f2-ac16-4c3d47c6ecf1",
   "metadata": {},
   "outputs": [
    {
     "name": "stdout",
     "output_type": "stream",
     "text": [
      "somu is 3 year's old\n"
     ]
    }
   ],
   "source": [
    "print(f'{name} is {age} year\\'s old')"
   ]
  },
  {
   "cell_type": "code",
   "execution_count": null,
   "id": "fb21b91b-b79c-4abb-b0ae-99c87dd65322",
   "metadata": {},
   "outputs": [],
   "source": []
  }
 ],
 "metadata": {
  "kernelspec": {
   "display_name": "Python 3 (ipykernel)",
   "language": "python",
   "name": "python3"
  },
  "language_info": {
   "codemirror_mode": {
    "name": "ipython",
    "version": 3
   },
   "file_extension": ".py",
   "mimetype": "text/x-python",
   "name": "python",
   "nbconvert_exporter": "python",
   "pygments_lexer": "ipython3",
   "version": "3.10.8"
  }
 },
 "nbformat": 4,
 "nbformat_minor": 5
}

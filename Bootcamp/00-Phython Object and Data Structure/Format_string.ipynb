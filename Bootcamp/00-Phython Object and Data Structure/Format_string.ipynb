{
 "cells": [
  {
   "cell_type": "code",
   "execution_count": 1,
   "id": "0b8bcf9e-0d93-479c-887e-c168077fe0d3",
   "metadata": {},
   "outputs": [
    {
     "name": "stdout",
     "output_type": "stream",
     "text": [
      "This is a string inserted\n"
     ]
    }
   ],
   "source": [
    "print('This is a string {}'.format('inserted'))"
   ]
  },
  {
   "cell_type": "code",
   "execution_count": 3,
   "id": "c982f3c0-85a0-42be-b700-ceea66c4a751",
   "metadata": {},
   "outputs": [
    {
     "name": "stdout",
     "output_type": "stream",
     "text": [
      " The fox brown quick \n"
     ]
    }
   ],
   "source": [
    "print(' The {} {} {} '.format('fox','brown','quick'))"
   ]
  },
  {
   "cell_type": "code",
   "execution_count": 5,
   "id": "223fd42c-b270-4195-be4c-32163e918ba9",
   "metadata": {},
   "outputs": [
    {
     "name": "stdout",
     "output_type": "stream",
     "text": [
      " The quick brown fox \n"
     ]
    }
   ],
   "source": [
    "# index\n",
    "print(' The {2} {1} {0} '.format('fox','brown','quick'))"
   ]
  },
  {
   "cell_type": "code",
   "execution_count": 6,
   "id": "c94eafbe-05af-4ea5-a3d0-e0104f1e3730",
   "metadata": {},
   "outputs": [
    {
     "name": "stdout",
     "output_type": "stream",
     "text": [
      " The fox fox fox \n"
     ]
    }
   ],
   "source": [
    "print(' The {0} {0} {0} '.format('fox','brown','quick'))"
   ]
  },
  {
   "cell_type": "code",
   "execution_count": 8,
   "id": "1d924fc5-6745-45e1-8ce0-a0052886fffc",
   "metadata": {},
   "outputs": [
    {
     "name": "stdout",
     "output_type": "stream",
     "text": [
      " The quick brown fox \n"
     ]
    }
   ],
   "source": [
    "# the key method \n",
    "print(' The {q} {b} {f} '.format(f='fox',b='brown',q='quick'))"
   ]
  },
  {
   "cell_type": "code",
   "execution_count": null,
   "id": "2657a4fa-ed7e-470b-8f8d-4880a673e038",
   "metadata": {},
   "outputs": [],
   "source": [
    "print(' The {} {} {}'.format(f = 'fox',b='brown',q='"
   ]
  }
 ],
 "metadata": {
  "kernelspec": {
   "display_name": "Python 3 (ipykernel)",
   "language": "python",
   "name": "python3"
  },
  "language_info": {
   "codemirror_mode": {
    "name": "ipython",
    "version": 3
   },
   "file_extension": ".py",
   "mimetype": "text/x-python",
   "name": "python",
   "nbconvert_exporter": "python",
   "pygments_lexer": "ipython3",
   "version": "3.10.8"
  }
 },
 "nbformat": 4,
 "nbformat_minor": 5
}
